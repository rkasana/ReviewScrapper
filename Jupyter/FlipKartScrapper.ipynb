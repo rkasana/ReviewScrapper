{
 "cells": [
  {
   "cell_type": "code",
   "execution_count": 1,
   "metadata": {},
   "outputs": [],
   "source": [
    "from bs4 import BeautifulSoup as bs\n",
    "import requests\n",
    "from urllib.request import urlopen as uReq"
   ]
  },
  {
   "cell_type": "code",
   "execution_count": 2,
   "metadata": {},
   "outputs": [],
   "source": [
    "searchString = \"motorola\""
   ]
  },
  {
   "cell_type": "code",
   "execution_count": 3,
   "metadata": {},
   "outputs": [],
   "source": [
    "flipkart_url = \"https://www.flipkart.com/search?q=\" + searchString # preparing the URL to search the product on flipkart\n",
    "uClient = uReq(flipkart_url) # requesting the webpage from the internet\n",
    "flipkartPage = uClient.read() # reading the webpage\n",
    "uClient.close() # closing the connection to the web server\n",
    "flipkart_html = bs(flipkartPage, \"html.parser\") # parsing the webpage as HTML\n",
    "bigboxes = flipkart_html.findAll(\"div\", {\"class\": \"bhgxx2 col-12-12\"}) # seacrhing for appropriate tag to redirect to the product link\n",
    "del bigboxes[0:3] # the first 3 members of the list do not contain relevant information, hence deleting them.\n",
    "box = bigboxes[0] #  taking the first iteration (for demo)\n",
    "productLink = \"https://www.flipkart.com\" + box.div.div.div.a['href'] # extracting the actual product link\n",
    "prodRes = requests.get(productLink) # getting the product page from server\n",
    "prod_html = bs(prodRes.text, \"html.parser\") # parsing the product page as HTML"
   ]
  },
  {
   "cell_type": "code",
   "execution_count": 24,
   "metadata": {},
   "outputs": [],
   "source": [
    "all_reviews = prod_html.find_all('div', {'class': \"col _39LH-M\"}) # finding the HTML section containing the customer comments"
   ]
  },
  {
   "cell_type": "code",
   "execution_count": 25,
   "metadata": {},
   "outputs": [],
   "source": [
    "# all_reviews"
   ]
  },
  {
   "cell_type": "code",
   "execution_count": 26,
   "metadata": {},
   "outputs": [
    {
     "data": {
      "text/plain": [
       "1"
      ]
     },
     "execution_count": 26,
     "metadata": {},
     "output_type": "execute_result"
    }
   ],
   "source": [
    "len(all_reviews)"
   ]
  },
  {
   "cell_type": "code",
   "execution_count": 30,
   "metadata": {},
   "outputs": [
    {
     "data": {
      "text/plain": [
       "'/motorola-one-macro-space-blue-64-gb/product-reviews/itm7526902d49b7e?pid=MOBFGB3JCDRXHJ8T&lid=LSTMOBFGB3JCDRXHJ8THSNCMP&marketplace=FLIPKART'"
      ]
     },
     "execution_count": 30,
     "metadata": {},
     "output_type": "execute_result"
    }
   ],
   "source": [
    "all_reviews[0].find_all('a')[-1].get('href')"
   ]
  },
  {
   "cell_type": "code",
   "execution_count": 31,
   "metadata": {},
   "outputs": [],
   "source": [
    "commentsURL = \"https://www.flipkart.com\"+all_reviews[0].find_all('a')[-1].get('href')"
   ]
  },
  {
   "cell_type": "code",
   "execution_count": 32,
   "metadata": {},
   "outputs": [
    {
     "data": {
      "text/plain": [
       "'https://www.flipkart.com/motorola-one-macro-space-blue-64-gb/product-reviews/itm7526902d49b7e?pid=MOBFGB3JCDRXHJ8T&lid=LSTMOBFGB3JCDRXHJ8THSNCMP&marketplace=FLIPKART'"
      ]
     },
     "execution_count": 32,
     "metadata": {},
     "output_type": "execute_result"
    }
   ],
   "source": [
    "commentsURL"
   ]
  },
  {
   "cell_type": "code",
   "execution_count": 33,
   "metadata": {},
   "outputs": [],
   "source": [
    "req_data = requests.get(commentsURL)\n",
    "review_soup = bs(req_data.content,'html.parser')"
   ]
  },
  {
   "cell_type": "code",
   "execution_count": 34,
   "metadata": {},
   "outputs": [],
   "source": [
    "next_page = review_soup.find_all('a',{'class':'_2Xp0TH'})\n"
   ]
  },
  {
   "cell_type": "code",
   "execution_count": 35,
   "metadata": {},
   "outputs": [],
   "source": [
    "baseUrl = \"https://www.flipkart.com\""
   ]
  },
  {
   "cell_type": "code",
   "execution_count": 36,
   "metadata": {},
   "outputs": [],
   "source": [
    "links = []\n",
    "for page in next_page:       \n",
    "    link = page.get('href')\n",
    "    links.append(baseUrl+link)"
   ]
  },
  {
   "cell_type": "code",
   "execution_count": 72,
   "metadata": {},
   "outputs": [],
   "source": [
    "# links"
   ]
  },
  {
   "cell_type": "code",
   "execution_count": 38,
   "metadata": {},
   "outputs": [],
   "source": [
    "first_page_link = links[0]\n",
    "req_data = requests.get(first_page_link)\n",
    "review_soup = bs(req_data.content,'html.parser')"
   ]
  },
  {
   "cell_type": "code",
   "execution_count": 39,
   "metadata": {},
   "outputs": [
    {
     "data": {
      "text/plain": [
       "'https://www.flipkart.com/motorola-one-macro-space-blue-64-gb/product-reviews/itm7526902d49b7e?pid=MOBFGB3JCDRXHJ8T&lid=LSTMOBFGB3JCDRXHJ8THSNCMP&marketplace=FLIPKART&page=1'"
      ]
     },
     "execution_count": 39,
     "metadata": {},
     "output_type": "execute_result"
    }
   ],
   "source": [
    "first_page_link"
   ]
  },
  {
   "cell_type": "code",
   "execution_count": 40,
   "metadata": {},
   "outputs": [],
   "source": [
    "commentboxes = review_soup.find_all('div', {'class' : \"_1PBCrt\"}) "
   ]
  },
  {
   "cell_type": "code",
   "execution_count": 42,
   "metadata": {},
   "outputs": [],
   "source": [
    "commentbox = commentboxes[0]"
   ]
  },
  {
   "cell_type": "code",
   "execution_count": null,
   "metadata": {},
   "outputs": [],
   "source": []
  },
  {
   "cell_type": "code",
   "execution_count": 51,
   "metadata": {},
   "outputs": [
    {
     "data": {
      "text/plain": [
       "'4'"
      ]
     },
     "execution_count": 51,
     "metadata": {},
     "output_type": "execute_result"
    }
   ],
   "source": [
    "Rating = commentbox.find_all('div',{'class':\"row\"})[0].div.text\n",
    "Rating"
   ]
  },
  {
   "cell_type": "code",
   "execution_count": 71,
   "metadata": {},
   "outputs": [
    {
     "data": {
      "text/plain": [
       "'Shivansh Tyagi'"
      ]
     },
     "execution_count": 71,
     "metadata": {},
     "output_type": "execute_result"
    }
   ],
   "source": [
    "name = commentbox.find_all('div',{'class':\"row\"})[2].p.text\n",
    "name"
   ]
  },
  {
   "cell_type": "code",
   "execution_count": 68,
   "metadata": {},
   "outputs": [
    {
     "data": {
      "text/plain": [
       "'Great product by Motorola. Macro feature is really amazing . look is also good but it can be more eye catchy. Performance is great. 4 out of 5.'"
      ]
     },
     "execution_count": 68,
     "metadata": {},
     "output_type": "execute_result"
    }
   ],
   "source": [
    "customerComments = commentbox.find_all('div',{'class':\"row\"})[1].div.div.div.text\n",
    "customerComments"
   ]
  },
  {
   "cell_type": "code",
   "execution_count": 58,
   "metadata": {},
   "outputs": [
    {
     "data": {
      "text/plain": [
       "'Delightful'"
      ]
     },
     "execution_count": 58,
     "metadata": {},
     "output_type": "execute_result"
    }
   ],
   "source": [
    "commentHead = commentbox.find_all('div',{'class':\"row\"})[0].p.text\n",
    "commentHead"
   ]
  },
  {
   "cell_type": "code",
   "execution_count": null,
   "metadata": {},
   "outputs": [],
   "source": []
  }
 ],
 "metadata": {
  "kernelspec": {
   "display_name": "Python 3",
   "language": "python",
   "name": "python3"
  },
  "language_info": {
   "codemirror_mode": {
    "name": "ipython",
    "version": 3
   },
   "file_extension": ".py",
   "mimetype": "text/x-python",
   "name": "python",
   "nbconvert_exporter": "python",
   "pygments_lexer": "ipython3",
   "version": "3.7.6"
  }
 },
 "nbformat": 4,
 "nbformat_minor": 4
}
