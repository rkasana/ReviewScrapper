{
 "cells": [
  {
   "cell_type": "code",
   "execution_count": 1,
   "metadata": {},
   "outputs": [],
   "source": [
    "from bs4 import BeautifulSoup"
   ]
  },
  {
   "cell_type": "code",
   "execution_count": 2,
   "metadata": {},
   "outputs": [],
   "source": [
    "import requests"
   ]
  },
  {
   "cell_type": "code",
   "execution_count": 3,
   "metadata": {},
   "outputs": [],
   "source": [
    "URL = \"https://www.flipkart.com/realme-6-comet-blue-64-gb/p/itm212944b2e7fb0?pid=MOBFPCX7F9NBPRRT&lid=LSTMOBFPCX7F9NBPRRTSHD9FQ&marketplace=FLIPKART&srno=s_1_1&otracker=AS_QueryStore_OrganicAutoSuggest_0_7_na_na_na&otracker1=AS_QueryStore_OrganicAutoSuggest_0_7_na_na_na&fm=SEARCH&iid=5e507907-f94c-4245-ab84-bfda63ab8017.MOBFPCX7F9NBPRRT.SEARCH&ppt=sp&ppn=sp&ssid=2mhtb82aww0000001584466525984&qH=9fc2f839437416b7\""
   ]
  },
  {
   "cell_type": "code",
   "execution_count": 4,
   "metadata": {},
   "outputs": [],
   "source": [
    "req_data = requests.get(URL)\n",
    "review_soup = BeautifulSoup(req_data.content,'html.parser')"
   ]
  },
  {
   "cell_type": "code",
   "execution_count": 5,
   "metadata": {},
   "outputs": [],
   "source": [
    "all_reviews = review_soup.find_all('div',{'class':'col _39LH-M'})"
   ]
  },
  {
   "cell_type": "code",
   "execution_count": null,
   "metadata": {},
   "outputs": [],
   "source": []
  },
  {
   "cell_type": "code",
   "execution_count": 14,
   "metadata": {},
   "outputs": [
    {
     "name": "stdout",
     "output_type": "stream",
     "text": [
      "['5', '5', '5', '5', '5', '5', '5', '5', '5', '4'] ['Wonderful', 'Just wow!', 'Simply awesome', 'Worth every penny', 'Fabulous!', 'Mind-blowing purchase', 'Brilliant', 'Highly recommended', 'Worth every penny', 'Good choice'] ['Best mid range phone.. and worth every penny!READ MORE', 'best phone under this price 👌👍👍READ MORE', \"Amazing.... phone I'm totally certified this product 🤗🤗🤗☝️☝️READ MORE\", 'Really just awesome phone...Pr Google assistant not working properlyREAD MORE', 'Good phone.value for money..READ MORE', \"You may miss such like a worthy mobile in just 13k, if you don't buy. Awesome product. Be hurry to purchase.This product is very good and very good quality thank you Flipkart thank you so muchI am use this device  very smuthly and very fast and fast charge...READ MORE\", 'A beast of its kind...Handles high end games like pubg on highest possible graphics like a boss😎😎 i highly recommend you to go for it.READ MORE', ',superbREAD MORE', 'Best phoneREAD MORE', 'All is good and amazing but , software updates are not downloading,,, it is saying that re-download..plz.. fix it fastREAD MORE'] [<p class=\"_3LYOAd _3sxSiS\">Vasanth  T</p>, <p class=\"_3LYOAd _3sxSiS\">himanshu  sharma</p>, <p class=\"_3LYOAd _3sxSiS\">Raju  Kushwaha</p>, <p class=\"_3LYOAd _3sxSiS\">Manoj Banerjee</p>, <p class=\"_3LYOAd _3sxSiS\">Renjith  Gopi</p>, <p class=\"_3LYOAd _3sxSiS\">Ashi Jain</p>, <p class=\"_3LYOAd _3sxSiS\">psatyanarayana</p>, <p class=\"_3LYOAd _3sxSiS\">Flipkart Customer</p>, <p class=\"_3LYOAd _3sxSiS\">Flipkart Customer</p>, <p class=\"_3LYOAd _3sxSiS\">Sudhakar Moundekar</p>] []\n",
      "====================================================================================================\n"
     ]
    }
   ],
   "source": [
    "rating_list = []\n",
    "review_header_list = []\n",
    "detailed_review_list = []\n",
    "user_list = []\n",
    "likes_dislikes_list = []\n",
    "for review in all_reviews:\n",
    "    \n",
    "    rating = review.find_all('div',{'class':'hGSR34 E_uFuv'})                       \n",
    "    rating = [e.get_text() for e in rating]\n",
    "    \n",
    "    review_header = review.find_all('p',{'class':'_2xg6Ul'})\n",
    "    review_header = [e.get_text() for e in review_header]\n",
    "    \n",
    "    detailed_review = review.find_all('div',{'class':'qwjRop'})\n",
    "    detailed_review = [e.get_text() for e in detailed_review]\n",
    "    \n",
    "    user = review.find_all('p',{'class':'_3LYOAd _3sxSiS'})\n",
    "    user = [e.get_text() for e in user]\n",
    "    \n",
    "    likes_dislikes = review.find_all('div',{'span':'_1_BQL8'})\n",
    "    likes_dislikes = [e.get_text() for e in likes_dislikes]\n",
    "    \n",
    "    rating_list.append(rating)\n",
    "    review_header_list.append(review_header)\n",
    "    detailed_review_list.append(detailed_review)\n",
    "    user_list.append(user)\n",
    "    likes_dislikes_list.append(likes_dislikes)\n",
    "    \n",
    "print(rating, review_header, detailed_review, user, likes_dislikes)\n",
    "\n",
    "print(\"=\"*100)"
   ]
  },
  {
   "cell_type": "code",
   "execution_count": 15,
   "metadata": {},
   "outputs": [],
   "source": [
    "user = review.find_all('p',{'class':'_3LYOAd _3sxSiS'})"
   ]
  },
  {
   "cell_type": "code",
   "execution_count": 16,
   "metadata": {},
   "outputs": [
    {
     "data": {
      "text/plain": [
       "[<p class=\"_3LYOAd _3sxSiS\">Vasanth  T</p>,\n",
       " <p class=\"_3LYOAd _3sxSiS\">himanshu  sharma</p>,\n",
       " <p class=\"_3LYOAd _3sxSiS\">Raju  Kushwaha</p>,\n",
       " <p class=\"_3LYOAd _3sxSiS\">Manoj Banerjee</p>,\n",
       " <p class=\"_3LYOAd _3sxSiS\">Renjith  Gopi</p>,\n",
       " <p class=\"_3LYOAd _3sxSiS\">Ashi Jain</p>,\n",
       " <p class=\"_3LYOAd _3sxSiS\">psatyanarayana</p>,\n",
       " <p class=\"_3LYOAd _3sxSiS\">Flipkart Customer</p>,\n",
       " <p class=\"_3LYOAd _3sxSiS\">Flipkart Customer</p>,\n",
       " <p class=\"_3LYOAd _3sxSiS\">Sudhakar Moundekar</p>]"
      ]
     },
     "execution_count": 16,
     "metadata": {},
     "output_type": "execute_result"
    }
   ],
   "source": [
    "user"
   ]
  },
  {
   "cell_type": "code",
   "execution_count": 17,
   "metadata": {},
   "outputs": [],
   "source": [
    "user = [e.get_text() for e in user]"
   ]
  },
  {
   "cell_type": "code",
   "execution_count": 18,
   "metadata": {},
   "outputs": [
    {
     "data": {
      "text/plain": [
       "['Vasanth  T',\n",
       " 'himanshu  sharma',\n",
       " 'Raju  Kushwaha',\n",
       " 'Manoj Banerjee',\n",
       " 'Renjith  Gopi',\n",
       " 'Ashi Jain',\n",
       " 'psatyanarayana',\n",
       " 'Flipkart Customer',\n",
       " 'Flipkart Customer',\n",
       " 'Sudhakar Moundekar']"
      ]
     },
     "execution_count": 18,
     "metadata": {},
     "output_type": "execute_result"
    }
   ],
   "source": [
    "user"
   ]
  },
  {
   "cell_type": "code",
   "execution_count": 19,
   "metadata": {},
   "outputs": [],
   "source": [
    "baseUrl = \"https://www.flipkart.com\""
   ]
  },
  {
   "cell_type": "code",
   "execution_count": 20,
   "metadata": {},
   "outputs": [],
   "source": [
    "all_reviews_link = review_soup.find('div',{'class':'swINJg _3nrCtb'})"
   ]
  },
  {
   "cell_type": "code",
   "execution_count": 21,
   "metadata": {},
   "outputs": [
    {
     "data": {
      "text/plain": [
       "<div class=\"swINJg _3nrCtb\"><span class=\"\">All 963 reviews</span></div>"
      ]
     },
     "execution_count": 21,
     "metadata": {},
     "output_type": "execute_result"
    }
   ],
   "source": [
    "all_reviews_link"
   ]
  },
  {
   "cell_type": "code",
   "execution_count": 22,
   "metadata": {},
   "outputs": [
    {
     "data": {
      "text/plain": [
       "<a href=\"/realme-6-comet-blue-64-gb/product-reviews/itm212944b2e7fb0?pid=MOBFPCX7F9NBPRRT&amp;lid=LSTMOBFPCX7F9NBPRRTSHD9FQ&amp;marketplace=FLIPKART\"><div class=\"swINJg _3nrCtb\"><span class=\"\">All 963 reviews</span></div></a>"
      ]
     },
     "execution_count": 22,
     "metadata": {},
     "output_type": "execute_result"
    }
   ],
   "source": [
    "all_reviews_link.find_parent()"
   ]
  },
  {
   "cell_type": "code",
   "execution_count": 23,
   "metadata": {},
   "outputs": [
    {
     "data": {
      "text/plain": [
       "['__bool__',\n",
       " '__call__',\n",
       " '__class__',\n",
       " '__contains__',\n",
       " '__copy__',\n",
       " '__delattr__',\n",
       " '__delitem__',\n",
       " '__dict__',\n",
       " '__dir__',\n",
       " '__doc__',\n",
       " '__eq__',\n",
       " '__format__',\n",
       " '__ge__',\n",
       " '__getattr__',\n",
       " '__getattribute__',\n",
       " '__getitem__',\n",
       " '__gt__',\n",
       " '__hash__',\n",
       " '__init__',\n",
       " '__init_subclass__',\n",
       " '__iter__',\n",
       " '__le__',\n",
       " '__len__',\n",
       " '__lt__',\n",
       " '__module__',\n",
       " '__ne__',\n",
       " '__new__',\n",
       " '__reduce__',\n",
       " '__reduce_ex__',\n",
       " '__repr__',\n",
       " '__setattr__',\n",
       " '__setitem__',\n",
       " '__sizeof__',\n",
       " '__str__',\n",
       " '__subclasshook__',\n",
       " '__unicode__',\n",
       " '__weakref__',\n",
       " '_all_strings',\n",
       " '_find_all',\n",
       " '_find_one',\n",
       " '_is_xml',\n",
       " '_lastRecursiveChild',\n",
       " '_last_descendant',\n",
       " '_should_pretty_print',\n",
       " 'append',\n",
       " 'attrs',\n",
       " 'can_be_empty_element',\n",
       " 'cdata_list_attributes',\n",
       " 'childGenerator',\n",
       " 'children',\n",
       " 'clear',\n",
       " 'contents',\n",
       " 'decode',\n",
       " 'decode_contents',\n",
       " 'decompose',\n",
       " 'descendants',\n",
       " 'encode',\n",
       " 'encode_contents',\n",
       " 'extend',\n",
       " 'extract',\n",
       " 'fetchNextSiblings',\n",
       " 'fetchParents',\n",
       " 'fetchPrevious',\n",
       " 'fetchPreviousSiblings',\n",
       " 'find',\n",
       " 'findAll',\n",
       " 'findAllNext',\n",
       " 'findAllPrevious',\n",
       " 'findChild',\n",
       " 'findChildren',\n",
       " 'findNext',\n",
       " 'findNextSibling',\n",
       " 'findNextSiblings',\n",
       " 'findParent',\n",
       " 'findParents',\n",
       " 'findPrevious',\n",
       " 'findPreviousSibling',\n",
       " 'findPreviousSiblings',\n",
       " 'find_all',\n",
       " 'find_all_next',\n",
       " 'find_all_previous',\n",
       " 'find_next',\n",
       " 'find_next_sibling',\n",
       " 'find_next_siblings',\n",
       " 'find_parent',\n",
       " 'find_parents',\n",
       " 'find_previous',\n",
       " 'find_previous_sibling',\n",
       " 'find_previous_siblings',\n",
       " 'format_string',\n",
       " 'formatter_for_name',\n",
       " 'get',\n",
       " 'getText',\n",
       " 'get_attribute_list',\n",
       " 'get_text',\n",
       " 'has_attr',\n",
       " 'has_key',\n",
       " 'hidden',\n",
       " 'index',\n",
       " 'insert',\n",
       " 'insert_after',\n",
       " 'insert_before',\n",
       " 'isSelfClosing',\n",
       " 'is_empty_element',\n",
       " 'known_xml',\n",
       " 'name',\n",
       " 'namespace',\n",
       " 'next',\n",
       " 'nextGenerator',\n",
       " 'nextSibling',\n",
       " 'nextSiblingGenerator',\n",
       " 'next_element',\n",
       " 'next_elements',\n",
       " 'next_sibling',\n",
       " 'next_siblings',\n",
       " 'parent',\n",
       " 'parentGenerator',\n",
       " 'parents',\n",
       " 'parserClass',\n",
       " 'parser_class',\n",
       " 'prefix',\n",
       " 'preserve_whitespace_tags',\n",
       " 'prettify',\n",
       " 'previous',\n",
       " 'previousGenerator',\n",
       " 'previousSibling',\n",
       " 'previousSiblingGenerator',\n",
       " 'previous_element',\n",
       " 'previous_elements',\n",
       " 'previous_sibling',\n",
       " 'previous_siblings',\n",
       " 'recursiveChildGenerator',\n",
       " 'renderContents',\n",
       " 'replaceWith',\n",
       " 'replaceWithChildren',\n",
       " 'replace_with',\n",
       " 'replace_with_children',\n",
       " 'select',\n",
       " 'select_one',\n",
       " 'setup',\n",
       " 'smooth',\n",
       " 'sourceline',\n",
       " 'sourcepos',\n",
       " 'string',\n",
       " 'strings',\n",
       " 'stripped_strings',\n",
       " 'text',\n",
       " 'unwrap',\n",
       " 'wrap']"
      ]
     },
     "execution_count": 23,
     "metadata": {},
     "output_type": "execute_result"
    }
   ],
   "source": [
    "dir(all_reviews_link)"
   ]
  },
  {
   "cell_type": "code",
   "execution_count": 30,
   "metadata": {},
   "outputs": [
    {
     "data": {
      "text/plain": [
       "<div class=\"swINJg _3nrCtb\"><span class=\"\">All 963 reviews</span></div>"
      ]
     },
     "execution_count": 30,
     "metadata": {},
     "output_type": "execute_result"
    }
   ],
   "source": [
    "all_reviews_link"
   ]
  },
  {
   "cell_type": "code",
   "execution_count": 40,
   "metadata": {},
   "outputs": [],
   "source": [
    "link = all_reviews_link.find_parent()"
   ]
  },
  {
   "cell_type": "code",
   "execution_count": 41,
   "metadata": {},
   "outputs": [
    {
     "data": {
      "text/plain": [
       "<a href=\"/realme-6-comet-blue-64-gb/product-reviews/itm212944b2e7fb0?pid=MOBFPCX7F9NBPRRT&amp;lid=LSTMOBFPCX7F9NBPRRTSHD9FQ&amp;marketplace=FLIPKART\"><div class=\"swINJg _3nrCtb\"><span class=\"\">All 963 reviews</span></div></a>"
      ]
     },
     "execution_count": 41,
     "metadata": {},
     "output_type": "execute_result"
    }
   ],
   "source": [
    "link"
   ]
  },
  {
   "cell_type": "code",
   "execution_count": 42,
   "metadata": {},
   "outputs": [],
   "source": [
    "all_rev = link.get('href')"
   ]
  },
  {
   "cell_type": "code",
   "execution_count": 43,
   "metadata": {},
   "outputs": [
    {
     "data": {
      "text/plain": [
       "'/realme-6-comet-blue-64-gb/product-reviews/itm212944b2e7fb0?pid=MOBFPCX7F9NBPRRT&lid=LSTMOBFPCX7F9NBPRRTSHD9FQ&marketplace=FLIPKART'"
      ]
     },
     "execution_count": 43,
     "metadata": {},
     "output_type": "execute_result"
    }
   ],
   "source": [
    "all_rev"
   ]
  },
  {
   "cell_type": "code",
   "execution_count": 44,
   "metadata": {},
   "outputs": [],
   "source": [
    "all_reviews = baseUrl+all_rev"
   ]
  },
  {
   "cell_type": "code",
   "execution_count": 45,
   "metadata": {},
   "outputs": [
    {
     "data": {
      "text/plain": [
       "'www.flipkart.com/realme-6-comet-blue-64-gb/product-reviews/itm212944b2e7fb0?pid=MOBFPCX7F9NBPRRT&lid=LSTMOBFPCX7F9NBPRRTSHD9FQ&marketplace=FLIPKART'"
      ]
     },
     "execution_count": 45,
     "metadata": {},
     "output_type": "execute_result"
    }
   ],
   "source": [
    "all_reviews"
   ]
  },
  {
   "cell_type": "code",
   "execution_count": null,
   "metadata": {},
   "outputs": [],
   "source": []
  }
 ],
 "metadata": {
  "kernelspec": {
   "display_name": "Python 3",
   "language": "python",
   "name": "python3"
  },
  "language_info": {
   "codemirror_mode": {
    "name": "ipython",
    "version": 3
   },
   "file_extension": ".py",
   "mimetype": "text/x-python",
   "name": "python",
   "nbconvert_exporter": "python",
   "pygments_lexer": "ipython3",
   "version": "3.7.3"
  }
 },
 "nbformat": 4,
 "nbformat_minor": 4
}
