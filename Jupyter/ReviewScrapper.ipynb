{
 "cells": [
  {
   "cell_type": "code",
   "execution_count": 1,
   "metadata": {},
   "outputs": [],
   "source": [
    "from bs4 import BeautifulSoup"
   ]
  },
  {
   "cell_type": "code",
   "execution_count": 2,
   "metadata": {},
   "outputs": [],
   "source": [
    "import requests"
   ]
  },
  {
   "cell_type": "code",
   "execution_count": null,
   "metadata": {},
   "outputs": [],
   "source": []
  },
  {
   "cell_type": "code",
   "execution_count": 3,
   "metadata": {},
   "outputs": [],
   "source": [
    "URL = \"https://www.flipkart.com/realme-6-comet-blue-64-gb/p/itm212944b2e7fb0?pid=MOBFPCX7F9NBPRRT&lid=LSTMOBFPCX7F9NBPRRTSHD9FQ&marketplace=FLIPKART&srno=s_1_1&otracker=AS_QueryStore_OrganicAutoSuggest_0_7_na_na_na&otracker1=AS_QueryStore_OrganicAutoSuggest_0_7_na_na_na&fm=SEARCH&iid=5e507907-f94c-4245-ab84-bfda63ab8017.MOBFPCX7F9NBPRRT.SEARCH&ppt=sp&ppn=sp&ssid=2mhtb82aww0000001584466525984&qH=9fc2f839437416b7\""
   ]
  },
  {
   "cell_type": "code",
   "execution_count": 4,
   "metadata": {},
   "outputs": [],
   "source": [
    "req_data = requests.get(URL)\n",
    "review_soup = BeautifulSoup(req_data.content,'html.parser')"
   ]
  },
  {
   "cell_type": "code",
   "execution_count": 5,
   "metadata": {},
   "outputs": [],
   "source": [
    "all_reviews = review_soup.find_all('div',{'class':'col _39LH-M'})"
   ]
  },
  {
   "cell_type": "code",
   "execution_count": 6,
   "metadata": {},
   "outputs": [
    {
     "name": "stdout",
     "output_type": "stream",
     "text": [
      "['5', '5', '5', '5', '5', '4', '5', '4', '5', '4'] ['Wonderful', 'Excellent', 'Wonderful', 'Just wow!', 'Fabulous!', 'Wonderful', 'Simply awesome', 'Wonderful', 'Worth every penny', 'Nice product'] ['Best mid range phone.. and worth every penny!READ MORE', 'Superb Camera!!!!!!READ MORE', 'Nice camera quality.READ MORE', 'best phone under this price 👌👍👍READ MORE', 'Nice phone this budget best camera qualityREAD MORE', \"Mobile is Very good..In case of camera I have to Rate it as 5/5Battery doesn't provide that great performance but at the End Vooc Charging Does it's Job.Display is a really Amazing have to Give 5/5Sound quality 5/5Microphone 4/5Build quality is Amazing.The phone is Really an head Twister at this Price Segment this one is an Gem. Lovely to have Realme offering this kind of Stuff to their users at That Cheap PriceREAD MORE\", \"Amazing.... phone I'm totally certified this product 🤗🤗🤗☝️☝️READ MORE\", 'Great product with android 10 Battery Full charging time 55 min. 5/4.5Camera 5/3.8Display quality good 5/4Sound quality 5/3.5Fingerprint sensor is good work and look. 5/4.5Smooth vibrating Nice looking.Value for moneyREAD MORE', 'Really just awesome phone...Pr Google assistant not working properlyREAD MORE', 'awesome camera performanceREAD MORE'] ['Vasanth  T', 'Flipkart Customer', 'Avijit Koley', 'himanshu  sharma', 'Himanshu Rohilla', 'Rohit  RAJ', 'Raju  Kushwaha', 'Priyanshu Soni', 'Manoj Banerjee', 'Ashish Tiwari'] []\n",
      "====================================================================================================\n"
     ]
    }
   ],
   "source": [
    "rating_list = []\n",
    "review_header_list = []\n",
    "detailed_review_list = []\n",
    "user_list = []\n",
    "likes_dislikes_list = []\n",
    "for review in all_reviews:\n",
    "    \n",
    "    rating = review.find_all('div',{'class':'hGSR34 E_uFuv'})                       \n",
    "    rating = [e.get_text() for e in rating]\n",
    "    \n",
    "    review_header = review.find_all('p',{'class':'_2xg6Ul'})\n",
    "    review_header = [e.get_text() for e in review_header]\n",
    "    \n",
    "    detailed_review = review.find_all('div',{'class':'qwjRop'})\n",
    "    detailed_review = [e.get_text() for e in detailed_review]\n",
    "    \n",
    "    user = review.find_all('p',{'class':'_3LYOAd _3sxSiS'})\n",
    "    user = [e.get_text() for e in user]\n",
    "    \n",
    "    likes_dislikes = review.find_all('div',{'span':'_1_BQL8'})\n",
    "    likes_dislikes = [e.get_text() for e in likes_dislikes]\n",
    "    \n",
    "    rating_list.append(rating)\n",
    "    review_header_list.append(review_header)\n",
    "    detailed_review_list.append(detailed_review)\n",
    "    user_list.append(user)\n",
    "    likes_dislikes_list.append(likes_dislikes)\n",
    "    \n",
    "print(rating, review_header, detailed_review, user, likes_dislikes)\n",
    "\n",
    "print(\"=\"*100)"
   ]
  },
  {
   "cell_type": "code",
   "execution_count": 7,
   "metadata": {},
   "outputs": [],
   "source": [
    "user = review.find_all('p',{'class':'_3LYOAd _3sxSiS'})"
   ]
  },
  {
   "cell_type": "code",
   "execution_count": 8,
   "metadata": {},
   "outputs": [
    {
     "data": {
      "text/plain": [
       "[<p class=\"_3LYOAd _3sxSiS\">Vasanth  T</p>,\n",
       " <p class=\"_3LYOAd _3sxSiS\">Flipkart Customer</p>,\n",
       " <p class=\"_3LYOAd _3sxSiS\">Avijit Koley</p>,\n",
       " <p class=\"_3LYOAd _3sxSiS\">himanshu  sharma</p>,\n",
       " <p class=\"_3LYOAd _3sxSiS\">Himanshu Rohilla</p>,\n",
       " <p class=\"_3LYOAd _3sxSiS\">Rohit  RAJ</p>,\n",
       " <p class=\"_3LYOAd _3sxSiS\">Raju  Kushwaha</p>,\n",
       " <p class=\"_3LYOAd _3sxSiS\">Priyanshu Soni</p>,\n",
       " <p class=\"_3LYOAd _3sxSiS\">Manoj Banerjee</p>,\n",
       " <p class=\"_3LYOAd _3sxSiS\">Ashish Tiwari</p>]"
      ]
     },
     "execution_count": 8,
     "metadata": {},
     "output_type": "execute_result"
    }
   ],
   "source": [
    "user"
   ]
  },
  {
   "cell_type": "code",
   "execution_count": 9,
   "metadata": {},
   "outputs": [],
   "source": [
    "user = [e.get_text() for e in user]"
   ]
  },
  {
   "cell_type": "code",
   "execution_count": 10,
   "metadata": {},
   "outputs": [
    {
     "data": {
      "text/plain": [
       "['Vasanth  T',\n",
       " 'Flipkart Customer',\n",
       " 'Avijit Koley',\n",
       " 'himanshu  sharma',\n",
       " 'Himanshu Rohilla',\n",
       " 'Rohit  RAJ',\n",
       " 'Raju  Kushwaha',\n",
       " 'Priyanshu Soni',\n",
       " 'Manoj Banerjee',\n",
       " 'Ashish Tiwari']"
      ]
     },
     "execution_count": 10,
     "metadata": {},
     "output_type": "execute_result"
    }
   ],
   "source": [
    "user"
   ]
  },
  {
   "cell_type": "code",
   "execution_count": 11,
   "metadata": {},
   "outputs": [],
   "source": [
    "baseUrl = \"https://www.flipkart.com\""
   ]
  },
  {
   "cell_type": "code",
   "execution_count": 12,
   "metadata": {},
   "outputs": [],
   "source": [
    "all_reviews_link = review_soup.find('div',{'class':'swINJg _3nrCtb'})"
   ]
  },
  {
   "cell_type": "code",
   "execution_count": 13,
   "metadata": {},
   "outputs": [
    {
     "data": {
      "text/plain": [
       "<div class=\"swINJg _3nrCtb\"><span class=\"\">All 2587 reviews</span></div>"
      ]
     },
     "execution_count": 13,
     "metadata": {},
     "output_type": "execute_result"
    }
   ],
   "source": [
    "all_reviews_link"
   ]
  },
  {
   "cell_type": "code",
   "execution_count": 14,
   "metadata": {},
   "outputs": [
    {
     "data": {
      "text/plain": [
       "<a href=\"/realme-6-comet-blue-64-gb/product-reviews/itm212944b2e7fb0?pid=MOBFPCX7F9NBPRRT&amp;lid=LSTMOBFPCX7F9NBPRRTSHD9FQ&amp;marketplace=FLIPKART\"><div class=\"swINJg _3nrCtb\"><span class=\"\">All 2587 reviews</span></div></a>"
      ]
     },
     "execution_count": 14,
     "metadata": {},
     "output_type": "execute_result"
    }
   ],
   "source": [
    "all_reviews_link.find_parent()"
   ]
  },
  {
   "cell_type": "code",
   "execution_count": 15,
   "metadata": {},
   "outputs": [
    {
     "data": {
      "text/plain": [
       "['__bool__',\n",
       " '__call__',\n",
       " '__class__',\n",
       " '__contains__',\n",
       " '__copy__',\n",
       " '__delattr__',\n",
       " '__delitem__',\n",
       " '__dict__',\n",
       " '__dir__',\n",
       " '__doc__',\n",
       " '__eq__',\n",
       " '__format__',\n",
       " '__ge__',\n",
       " '__getattr__',\n",
       " '__getattribute__',\n",
       " '__getitem__',\n",
       " '__gt__',\n",
       " '__hash__',\n",
       " '__init__',\n",
       " '__init_subclass__',\n",
       " '__iter__',\n",
       " '__le__',\n",
       " '__len__',\n",
       " '__lt__',\n",
       " '__module__',\n",
       " '__ne__',\n",
       " '__new__',\n",
       " '__reduce__',\n",
       " '__reduce_ex__',\n",
       " '__repr__',\n",
       " '__setattr__',\n",
       " '__setitem__',\n",
       " '__sizeof__',\n",
       " '__str__',\n",
       " '__subclasshook__',\n",
       " '__unicode__',\n",
       " '__weakref__',\n",
       " '_all_strings',\n",
       " '_find_all',\n",
       " '_find_one',\n",
       " '_is_xml',\n",
       " '_lastRecursiveChild',\n",
       " '_last_descendant',\n",
       " '_should_pretty_print',\n",
       " 'append',\n",
       " 'attrs',\n",
       " 'can_be_empty_element',\n",
       " 'cdata_list_attributes',\n",
       " 'childGenerator',\n",
       " 'children',\n",
       " 'clear',\n",
       " 'contents',\n",
       " 'decode',\n",
       " 'decode_contents',\n",
       " 'decompose',\n",
       " 'descendants',\n",
       " 'encode',\n",
       " 'encode_contents',\n",
       " 'extend',\n",
       " 'extract',\n",
       " 'fetchNextSiblings',\n",
       " 'fetchParents',\n",
       " 'fetchPrevious',\n",
       " 'fetchPreviousSiblings',\n",
       " 'find',\n",
       " 'findAll',\n",
       " 'findAllNext',\n",
       " 'findAllPrevious',\n",
       " 'findChild',\n",
       " 'findChildren',\n",
       " 'findNext',\n",
       " 'findNextSibling',\n",
       " 'findNextSiblings',\n",
       " 'findParent',\n",
       " 'findParents',\n",
       " 'findPrevious',\n",
       " 'findPreviousSibling',\n",
       " 'findPreviousSiblings',\n",
       " 'find_all',\n",
       " 'find_all_next',\n",
       " 'find_all_previous',\n",
       " 'find_next',\n",
       " 'find_next_sibling',\n",
       " 'find_next_siblings',\n",
       " 'find_parent',\n",
       " 'find_parents',\n",
       " 'find_previous',\n",
       " 'find_previous_sibling',\n",
       " 'find_previous_siblings',\n",
       " 'format_string',\n",
       " 'formatter_for_name',\n",
       " 'get',\n",
       " 'getText',\n",
       " 'get_attribute_list',\n",
       " 'get_text',\n",
       " 'has_attr',\n",
       " 'has_key',\n",
       " 'hidden',\n",
       " 'index',\n",
       " 'insert',\n",
       " 'insert_after',\n",
       " 'insert_before',\n",
       " 'isSelfClosing',\n",
       " 'is_empty_element',\n",
       " 'known_xml',\n",
       " 'name',\n",
       " 'namespace',\n",
       " 'next',\n",
       " 'nextGenerator',\n",
       " 'nextSibling',\n",
       " 'nextSiblingGenerator',\n",
       " 'next_element',\n",
       " 'next_elements',\n",
       " 'next_sibling',\n",
       " 'next_siblings',\n",
       " 'parent',\n",
       " 'parentGenerator',\n",
       " 'parents',\n",
       " 'parserClass',\n",
       " 'parser_class',\n",
       " 'prefix',\n",
       " 'preserve_whitespace_tags',\n",
       " 'prettify',\n",
       " 'previous',\n",
       " 'previousGenerator',\n",
       " 'previousSibling',\n",
       " 'previousSiblingGenerator',\n",
       " 'previous_element',\n",
       " 'previous_elements',\n",
       " 'previous_sibling',\n",
       " 'previous_siblings',\n",
       " 'recursiveChildGenerator',\n",
       " 'renderContents',\n",
       " 'replaceWith',\n",
       " 'replaceWithChildren',\n",
       " 'replace_with',\n",
       " 'replace_with_children',\n",
       " 'select',\n",
       " 'select_one',\n",
       " 'setup',\n",
       " 'smooth',\n",
       " 'sourceline',\n",
       " 'sourcepos',\n",
       " 'string',\n",
       " 'strings',\n",
       " 'stripped_strings',\n",
       " 'text',\n",
       " 'unwrap',\n",
       " 'wrap']"
      ]
     },
     "execution_count": 15,
     "metadata": {},
     "output_type": "execute_result"
    }
   ],
   "source": [
    "dir(all_reviews_link)"
   ]
  },
  {
   "cell_type": "code",
   "execution_count": 16,
   "metadata": {},
   "outputs": [
    {
     "data": {
      "text/plain": [
       "<div class=\"swINJg _3nrCtb\"><span class=\"\">All 2587 reviews</span></div>"
      ]
     },
     "execution_count": 16,
     "metadata": {},
     "output_type": "execute_result"
    }
   ],
   "source": [
    "all_reviews_link"
   ]
  },
  {
   "cell_type": "code",
   "execution_count": 17,
   "metadata": {},
   "outputs": [],
   "source": [
    "link = all_reviews_link.find_parent()"
   ]
  },
  {
   "cell_type": "code",
   "execution_count": 18,
   "metadata": {},
   "outputs": [
    {
     "data": {
      "text/plain": [
       "<a href=\"/realme-6-comet-blue-64-gb/product-reviews/itm212944b2e7fb0?pid=MOBFPCX7F9NBPRRT&amp;lid=LSTMOBFPCX7F9NBPRRTSHD9FQ&amp;marketplace=FLIPKART\"><div class=\"swINJg _3nrCtb\"><span class=\"\">All 2587 reviews</span></div></a>"
      ]
     },
     "execution_count": 18,
     "metadata": {},
     "output_type": "execute_result"
    }
   ],
   "source": [
    "link"
   ]
  },
  {
   "cell_type": "code",
   "execution_count": 19,
   "metadata": {},
   "outputs": [],
   "source": [
    "all_rev = link.get('href')"
   ]
  },
  {
   "cell_type": "code",
   "execution_count": 20,
   "metadata": {},
   "outputs": [
    {
     "data": {
      "text/plain": [
       "'/realme-6-comet-blue-64-gb/product-reviews/itm212944b2e7fb0?pid=MOBFPCX7F9NBPRRT&lid=LSTMOBFPCX7F9NBPRRTSHD9FQ&marketplace=FLIPKART'"
      ]
     },
     "execution_count": 20,
     "metadata": {},
     "output_type": "execute_result"
    }
   ],
   "source": [
    "all_rev"
   ]
  },
  {
   "cell_type": "code",
   "execution_count": 21,
   "metadata": {},
   "outputs": [],
   "source": [
    "all_reviews = baseUrl+all_rev"
   ]
  },
  {
   "cell_type": "code",
   "execution_count": 22,
   "metadata": {},
   "outputs": [
    {
     "data": {
      "text/plain": [
       "'https://www.flipkart.com/realme-6-comet-blue-64-gb/product-reviews/itm212944b2e7fb0?pid=MOBFPCX7F9NBPRRT&lid=LSTMOBFPCX7F9NBPRRTSHD9FQ&marketplace=FLIPKART'"
      ]
     },
     "execution_count": 22,
     "metadata": {},
     "output_type": "execute_result"
    }
   ],
   "source": [
    "all_reviews"
   ]
  },
  {
   "cell_type": "code",
   "execution_count": 42,
   "metadata": {},
   "outputs": [],
   "source": [
    "searchString = \"motorola\"\n",
    "URL1 = \"https://www.flipkart.com/\"+searchString+\"/product-reviews/itm212944b2e7fb0?pid=MOBFPCX7F9NBPRRT&lid=LSTMOBFPCX7F9NBPRRTSHD9FQ&marketplace=FLIPKART\"\n",
    "\n",
    "req_data = requests.get(URL1)\n",
    "review_soup = BeautifulSoup(req_data.content,'html.parser')"
   ]
  },
  {
   "cell_type": "code",
   "execution_count": 43,
   "metadata": {},
   "outputs": [],
   "source": [
    "next_page = review_soup.find_all('a',{'class':'_2Xp0TH'})"
   ]
  },
  {
   "cell_type": "code",
   "execution_count": 47,
   "metadata": {},
   "outputs": [],
   "source": [
    "links = []\n",
    "for page in next_page:       \n",
    "    link = page.get('href')\n",
    "    links.append(baseUrl+link)"
   ]
  },
  {
   "cell_type": "code",
   "execution_count": 49,
   "metadata": {},
   "outputs": [],
   "source": [
    "from bs4 import BeautifulSoup as bs"
   ]
  },
  {
   "cell_type": "code",
   "execution_count": 50,
   "metadata": {},
   "outputs": [],
   "source": [
    "first_page_link = links[0]\n",
    "req_data = requests.get(first_page_link)\n",
    "review_soup = bs(req_data.content,'html.parser')"
   ]
  },
  {
   "cell_type": "code",
   "execution_count": 63,
   "metadata": {},
   "outputs": [
    {
     "data": {
      "text/plain": [
       "'https://www.flipkart.com/motorola/product-reviews/itm212944b2e7fb0?pid=MOBFPCX7F9NBPRRT&lid=LSTMOBFPCX7F9NBPRRTSHD9FQ&marketplace=FLIPKART&page=1'"
      ]
     },
     "execution_count": 63,
     "metadata": {},
     "output_type": "execute_result"
    }
   ],
   "source": [
    "first_page_link"
   ]
  },
  {
   "cell_type": "code",
   "execution_count": 64,
   "metadata": {},
   "outputs": [],
   "source": [
    "all_reviews = review_soup.find_all('div', {'class': '_3gijNv col-12-12'})"
   ]
  },
  {
   "cell_type": "code",
   "execution_count": 67,
   "metadata": {},
   "outputs": [],
   "source": [
    "commentboxes = review_soup.find_all('div', {'class' : \"_3gijNv col-12-12\"}) "
   ]
  },
  {
   "cell_type": "code",
   "execution_count": 68,
   "metadata": {},
   "outputs": [],
   "source": [
    "# all_reviews"
   ]
  },
  {
   "cell_type": "code",
   "execution_count": 70,
   "metadata": {},
   "outputs": [],
   "source": [
    "reviews = []\n",
    "\n",
    "for commentbox in commentboxes:\n",
    "    try:\n",
    "        name = commentbox.div.div.find_all('p', {'class':'_3LYOAd _3sxSiS'})[0].text\n",
    "    except:\n",
    "        name = 'No Name'\n",
    "    \n",
    "    try:\n",
    "        rating = commentbox.div.div.div.div.text\n",
    "    except:\n",
    "        rating = 'No Rating'\n",
    "\n",
    "    try:\n",
    "        commentHead = commentbox.div.div.div.p.text\n",
    "    except:\n",
    "        commentHead = 'No Comment Heading'\n",
    "\n",
    "    try:\n",
    "        comtag = commentbox.div.div.find_all('div', {'class':''})\n",
    "        custComment = comtag[0].div.text\n",
    "    except:\n",
    "        custComment = 'No Customer Comment'\n",
    "\n",
    "    mydict = {\"Product\": searchString, \"Name\": name,\n",
    "             \"Rating\": rating, \"Comment\": custComment}\n",
    "\n",
    "    # x = table.insert_one(mydict) # inserting the dictionary containing the review comments\n",
    "                                   # to the collection\n",
    "\n",
    "    reviews.append(mydict)"
   ]
  },
  {
   "cell_type": "code",
   "execution_count": 71,
   "metadata": {},
   "outputs": [
    {
     "data": {
      "text/plain": [
       "[{'Product': 'motorola', 'Name': 'No Name', 'Rating': '', 'Comment': ''},\n",
       " {'Product': 'motorola',\n",
       "  'Name': 'No Name',\n",
       "  'Rating': 'No Rating',\n",
       "  'Comment': 'No Customer Comment'},\n",
       " {'Product': 'motorola',\n",
       "  'Name': 'No Name',\n",
       "  'Rating': 'No Rating',\n",
       "  'Comment': 'No Customer Comment'},\n",
       " {'Product': 'motorola',\n",
       "  'Name': 'No Name',\n",
       "  'Rating': '4.4★',\n",
       "  'Comment': 'No Customer Comment'},\n",
       " {'Product': 'motorola',\n",
       "  'Name': 'Flipkart Customer',\n",
       "  'Rating': '5Excellent',\n",
       "  'Comment': 'Superb Camera!!!!!!'},\n",
       " {'Product': 'motorola',\n",
       "  'Name': 'Vasanth  T',\n",
       "  'Rating': '5Wonderful',\n",
       "  'Comment': 'Best mid range phone.. and worth every penny!'},\n",
       " {'Product': 'motorola',\n",
       "  'Name': 'himanshu  sharma',\n",
       "  'Rating': '5Just wow!',\n",
       "  'Comment': 'best phone under this price 👌👍👍'},\n",
       " {'Product': 'motorola',\n",
       "  'Name': 'Himanshu Rohilla',\n",
       "  'Rating': '5Fabulous!',\n",
       "  'Comment': 'Nice phone this budget best camera quality'},\n",
       " {'Product': 'motorola',\n",
       "  'Name': 'Avijit Koley',\n",
       "  'Rating': '5Wonderful',\n",
       "  'Comment': 'Nice camera quality.'},\n",
       " {'Product': 'motorola',\n",
       "  'Name': 'Rohit  RAJ',\n",
       "  'Rating': '4Wonderful',\n",
       "  'Comment': \"Mobile is Very good..In case of camera I have to Rate it as 5/5Battery doesn't provide that great performance but at the End Vooc Charging Does it's Job.Display is a really Amazing have to Give 5/5Sound quality 5/5Microphone 4/5Build quality is Amazing.The phone is Really an head Twister at this Price Segment this one is an Gem. Lovely to have Realme offering this kind of Stuff to their users at That Cheap Price\"},\n",
       " {'Product': 'motorola',\n",
       "  'Name': 'Raju  Kushwaha',\n",
       "  'Rating': '5Simply awesome',\n",
       "  'Comment': \"Amazing.... phone I'm totally certified this product 🤗🤗🤗☝️☝️\"},\n",
       " {'Product': 'motorola',\n",
       "  'Name': 'Priyanshu Soni',\n",
       "  'Rating': '4Wonderful',\n",
       "  'Comment': 'Great product with android 10 Battery Full charging time 55 min. 5/4.5Camera 5/3.8Display quality good 5/4Sound quality 5/3.5Fingerprint sensor is good work and look. 5/4.5Smooth vibrating Nice looking.Value for money'},\n",
       " {'Product': 'motorola',\n",
       "  'Name': 'Manoj Banerjee',\n",
       "  'Rating': '5Worth every penny',\n",
       "  'Comment': 'Really just awesome phone...Pr Google assistant not working properly'},\n",
       " {'Product': 'motorola',\n",
       "  'Name': 'Ashish Tiwari',\n",
       "  'Rating': '4Nice product',\n",
       "  'Comment': 'awesome camera performance'},\n",
       " {'Product': 'motorola',\n",
       "  'Name': 'No Name',\n",
       "  'Rating': 'No Rating',\n",
       "  'Comment': 'No Customer Comment'}]"
      ]
     },
     "execution_count": 71,
     "metadata": {},
     "output_type": "execute_result"
    }
   ],
   "source": [
    "reviews"
   ]
  },
  {
   "cell_type": "code",
   "execution_count": null,
   "metadata": {},
   "outputs": [],
   "source": []
  }
 ],
 "metadata": {
  "kernelspec": {
   "display_name": "Python 3",
   "language": "python",
   "name": "python3"
  },
  "language_info": {
   "codemirror_mode": {
    "name": "ipython",
    "version": 3
   },
   "file_extension": ".py",
   "mimetype": "text/x-python",
   "name": "python",
   "nbconvert_exporter": "python",
   "pygments_lexer": "ipython3",
   "version": "3.7.6"
  }
 },
 "nbformat": 4,
 "nbformat_minor": 4
}
